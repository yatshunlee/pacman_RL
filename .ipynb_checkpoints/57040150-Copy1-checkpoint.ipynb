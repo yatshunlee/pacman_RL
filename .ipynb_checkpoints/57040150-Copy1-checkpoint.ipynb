{
 "cells": [
  {
   "cell_type": "code",
   "execution_count": 13,
   "metadata": {},
   "outputs": [],
   "source": [
    "import numpy as np\n",
    "import pandas as pd\n",
    "import seaborn as sns\n",
    "import matplotlib.pyplot as plt"
   ]
  },
  {
   "cell_type": "code",
   "execution_count": 14,
   "metadata": {},
   "outputs": [
    {
     "data": {
      "text/html": [
       "<div>\n",
       "<style scoped>\n",
       "    .dataframe tbody tr th:only-of-type {\n",
       "        vertical-align: middle;\n",
       "    }\n",
       "\n",
       "    .dataframe tbody tr th {\n",
       "        vertical-align: top;\n",
       "    }\n",
       "\n",
       "    .dataframe thead th {\n",
       "        text-align: right;\n",
       "    }\n",
       "</style>\n",
       "<table border=\"1\" class=\"dataframe\">\n",
       "  <thead>\n",
       "    <tr style=\"text-align: right;\">\n",
       "      <th></th>\n",
       "      <th>PregnancyStatus</th>\n",
       "      <th>age</th>\n",
       "      <th>ethnic</th>\n",
       "      <th>race</th>\n",
       "      <th>hxcc</th>\n",
       "      <th>hirsu</th>\n",
       "      <th>bmi</th>\n",
       "      <th>V7</th>\n",
       "      <th>V8</th>\n",
       "      <th>V9</th>\n",
       "      <th>...</th>\n",
       "      <th>V46</th>\n",
       "      <th>V47</th>\n",
       "      <th>V48</th>\n",
       "      <th>V49</th>\n",
       "      <th>V50</th>\n",
       "      <th>V51</th>\n",
       "      <th>V52</th>\n",
       "      <th>V53</th>\n",
       "      <th>V54</th>\n",
       "      <th>V55</th>\n",
       "    </tr>\n",
       "  </thead>\n",
       "  <tbody>\n",
       "    <tr>\n",
       "      <th>0</th>\n",
       "      <td>1</td>\n",
       "      <td>63</td>\n",
       "      <td>1</td>\n",
       "      <td>0</td>\n",
       "      <td>1</td>\n",
       "      <td>19</td>\n",
       "      <td>59.7338</td>\n",
       "      <td>36.0</td>\n",
       "      <td>52.9</td>\n",
       "      <td>15.9</td>\n",
       "      <td>...</td>\n",
       "      <td>53</td>\n",
       "      <td>0</td>\n",
       "      <td>1</td>\n",
       "      <td>47.473640</td>\n",
       "      <td>1</td>\n",
       "      <td>0</td>\n",
       "      <td>1</td>\n",
       "      <td>34.260114</td>\n",
       "      <td>12.272363</td>\n",
       "      <td>1</td>\n",
       "    </tr>\n",
       "    <tr>\n",
       "      <th>1</th>\n",
       "      <td>2</td>\n",
       "      <td>56</td>\n",
       "      <td>1</td>\n",
       "      <td>1</td>\n",
       "      <td>1</td>\n",
       "      <td>17</td>\n",
       "      <td>29.2568</td>\n",
       "      <td>18.0</td>\n",
       "      <td>134.5</td>\n",
       "      <td>15.9</td>\n",
       "      <td>...</td>\n",
       "      <td>18</td>\n",
       "      <td>0</td>\n",
       "      <td>1</td>\n",
       "      <td>32.827263</td>\n",
       "      <td>0</td>\n",
       "      <td>0</td>\n",
       "      <td>0</td>\n",
       "      <td>42.403559</td>\n",
       "      <td>24.456213</td>\n",
       "      <td>0</td>\n",
       "    </tr>\n",
       "    <tr>\n",
       "      <th>2</th>\n",
       "      <td>1</td>\n",
       "      <td>46</td>\n",
       "      <td>0</td>\n",
       "      <td>0</td>\n",
       "      <td>1</td>\n",
       "      <td>7</td>\n",
       "      <td>47.9202</td>\n",
       "      <td>16.0</td>\n",
       "      <td>66.4</td>\n",
       "      <td>20.4</td>\n",
       "      <td>...</td>\n",
       "      <td>22</td>\n",
       "      <td>1</td>\n",
       "      <td>0</td>\n",
       "      <td>45.881595</td>\n",
       "      <td>1</td>\n",
       "      <td>0</td>\n",
       "      <td>1</td>\n",
       "      <td>44.502206</td>\n",
       "      <td>40.660653</td>\n",
       "      <td>0</td>\n",
       "    </tr>\n",
       "    <tr>\n",
       "      <th>3</th>\n",
       "      <td>2</td>\n",
       "      <td>49</td>\n",
       "      <td>1</td>\n",
       "      <td>0</td>\n",
       "      <td>0</td>\n",
       "      <td>11</td>\n",
       "      <td>27.9795</td>\n",
       "      <td>30.0</td>\n",
       "      <td>17.7</td>\n",
       "      <td>45.1</td>\n",
       "      <td>...</td>\n",
       "      <td>13</td>\n",
       "      <td>0</td>\n",
       "      <td>1</td>\n",
       "      <td>43.948005</td>\n",
       "      <td>1</td>\n",
       "      <td>0</td>\n",
       "      <td>0</td>\n",
       "      <td>38.176825</td>\n",
       "      <td>10.224140</td>\n",
       "      <td>0</td>\n",
       "    </tr>\n",
       "    <tr>\n",
       "      <th>4</th>\n",
       "      <td>2</td>\n",
       "      <td>60</td>\n",
       "      <td>1</td>\n",
       "      <td>0</td>\n",
       "      <td>0</td>\n",
       "      <td>14</td>\n",
       "      <td>27.4573</td>\n",
       "      <td>72.0</td>\n",
       "      <td>67.6</td>\n",
       "      <td>10.3</td>\n",
       "      <td>...</td>\n",
       "      <td>26</td>\n",
       "      <td>0</td>\n",
       "      <td>1</td>\n",
       "      <td>37.625715</td>\n",
       "      <td>1</td>\n",
       "      <td>1</td>\n",
       "      <td>1</td>\n",
       "      <td>37.001452</td>\n",
       "      <td>23.550903</td>\n",
       "      <td>0</td>\n",
       "    </tr>\n",
       "    <tr>\n",
       "      <th>...</th>\n",
       "      <td>...</td>\n",
       "      <td>...</td>\n",
       "      <td>...</td>\n",
       "      <td>...</td>\n",
       "      <td>...</td>\n",
       "      <td>...</td>\n",
       "      <td>...</td>\n",
       "      <td>...</td>\n",
       "      <td>...</td>\n",
       "      <td>...</td>\n",
       "      <td>...</td>\n",
       "      <td>...</td>\n",
       "      <td>...</td>\n",
       "      <td>...</td>\n",
       "      <td>...</td>\n",
       "      <td>...</td>\n",
       "      <td>...</td>\n",
       "      <td>...</td>\n",
       "      <td>...</td>\n",
       "      <td>...</td>\n",
       "      <td>...</td>\n",
       "    </tr>\n",
       "    <tr>\n",
       "      <th>308</th>\n",
       "      <td>2</td>\n",
       "      <td>53</td>\n",
       "      <td>1</td>\n",
       "      <td>1</td>\n",
       "      <td>0</td>\n",
       "      <td>4</td>\n",
       "      <td>32.4416</td>\n",
       "      <td>36.0</td>\n",
       "      <td>39.0</td>\n",
       "      <td>37.7</td>\n",
       "      <td>...</td>\n",
       "      <td>49</td>\n",
       "      <td>0</td>\n",
       "      <td>1</td>\n",
       "      <td>37.555575</td>\n",
       "      <td>1</td>\n",
       "      <td>1</td>\n",
       "      <td>1</td>\n",
       "      <td>36.194073</td>\n",
       "      <td>13.571754</td>\n",
       "      <td>0</td>\n",
       "    </tr>\n",
       "    <tr>\n",
       "      <th>309</th>\n",
       "      <td>2</td>\n",
       "      <td>49</td>\n",
       "      <td>1</td>\n",
       "      <td>0</td>\n",
       "      <td>0</td>\n",
       "      <td>16</td>\n",
       "      <td>33.1152</td>\n",
       "      <td>36.0</td>\n",
       "      <td>125.6</td>\n",
       "      <td>13.2</td>\n",
       "      <td>...</td>\n",
       "      <td>29</td>\n",
       "      <td>1</td>\n",
       "      <td>0</td>\n",
       "      <td>39.292301</td>\n",
       "      <td>1</td>\n",
       "      <td>0</td>\n",
       "      <td>0</td>\n",
       "      <td>26.869400</td>\n",
       "      <td>29.184950</td>\n",
       "      <td>0</td>\n",
       "    </tr>\n",
       "    <tr>\n",
       "      <th>310</th>\n",
       "      <td>2</td>\n",
       "      <td>55</td>\n",
       "      <td>1</td>\n",
       "      <td>0</td>\n",
       "      <td>0</td>\n",
       "      <td>11</td>\n",
       "      <td>25.7276</td>\n",
       "      <td>6.0</td>\n",
       "      <td>50.0</td>\n",
       "      <td>30.1</td>\n",
       "      <td>...</td>\n",
       "      <td>27</td>\n",
       "      <td>1</td>\n",
       "      <td>0</td>\n",
       "      <td>33.272125</td>\n",
       "      <td>1</td>\n",
       "      <td>0</td>\n",
       "      <td>1</td>\n",
       "      <td>44.120809</td>\n",
       "      <td>22.775875</td>\n",
       "      <td>0</td>\n",
       "    </tr>\n",
       "    <tr>\n",
       "      <th>311</th>\n",
       "      <td>2</td>\n",
       "      <td>50</td>\n",
       "      <td>1</td>\n",
       "      <td>1</td>\n",
       "      <td>0</td>\n",
       "      <td>9</td>\n",
       "      <td>25.5084</td>\n",
       "      <td>12.0</td>\n",
       "      <td>63.7</td>\n",
       "      <td>41.9</td>\n",
       "      <td>...</td>\n",
       "      <td>40</td>\n",
       "      <td>1</td>\n",
       "      <td>1</td>\n",
       "      <td>26.295065</td>\n",
       "      <td>1</td>\n",
       "      <td>1</td>\n",
       "      <td>0</td>\n",
       "      <td>23.616479</td>\n",
       "      <td>38.732016</td>\n",
       "      <td>1</td>\n",
       "    </tr>\n",
       "    <tr>\n",
       "      <th>312</th>\n",
       "      <td>1</td>\n",
       "      <td>52</td>\n",
       "      <td>0</td>\n",
       "      <td>0</td>\n",
       "      <td>1</td>\n",
       "      <td>14</td>\n",
       "      <td>27.3789</td>\n",
       "      <td>36.0</td>\n",
       "      <td>37.4</td>\n",
       "      <td>22.0</td>\n",
       "      <td>...</td>\n",
       "      <td>15</td>\n",
       "      <td>0</td>\n",
       "      <td>1</td>\n",
       "      <td>24.523972</td>\n",
       "      <td>0</td>\n",
       "      <td>1</td>\n",
       "      <td>1</td>\n",
       "      <td>24.275572</td>\n",
       "      <td>18.228271</td>\n",
       "      <td>0</td>\n",
       "    </tr>\n",
       "  </tbody>\n",
       "</table>\n",
       "<p>313 rows × 56 columns</p>\n",
       "</div>"
      ],
      "text/plain": [
       "     PregnancyStatus  age  ethnic  race  hxcc  hirsu      bmi    V7     V8  \\\n",
       "0                  1   63       1     0     1     19  59.7338  36.0   52.9   \n",
       "1                  2   56       1     1     1     17  29.2568  18.0  134.5   \n",
       "2                  1   46       0     0     1      7  47.9202  16.0   66.4   \n",
       "3                  2   49       1     0     0     11  27.9795  30.0   17.7   \n",
       "4                  2   60       1     0     0     14  27.4573  72.0   67.6   \n",
       "..               ...  ...     ...   ...   ...    ...      ...   ...    ...   \n",
       "308                2   53       1     1     0      4  32.4416  36.0   39.0   \n",
       "309                2   49       1     0     0     16  33.1152  36.0  125.6   \n",
       "310                2   55       1     0     0     11  25.7276   6.0   50.0   \n",
       "311                2   50       1     1     0      9  25.5084  12.0   63.7   \n",
       "312                1   52       0     0     1     14  27.3789  36.0   37.4   \n",
       "\n",
       "       V9  ...  V46  V47  V48        V49  V50  V51  V52        V53        V54  \\\n",
       "0    15.9  ...   53    0    1  47.473640    1    0    1  34.260114  12.272363   \n",
       "1    15.9  ...   18    0    1  32.827263    0    0    0  42.403559  24.456213   \n",
       "2    20.4  ...   22    1    0  45.881595    1    0    1  44.502206  40.660653   \n",
       "3    45.1  ...   13    0    1  43.948005    1    0    0  38.176825  10.224140   \n",
       "4    10.3  ...   26    0    1  37.625715    1    1    1  37.001452  23.550903   \n",
       "..    ...  ...  ...  ...  ...        ...  ...  ...  ...        ...        ...   \n",
       "308  37.7  ...   49    0    1  37.555575    1    1    1  36.194073  13.571754   \n",
       "309  13.2  ...   29    1    0  39.292301    1    0    0  26.869400  29.184950   \n",
       "310  30.1  ...   27    1    0  33.272125    1    0    1  44.120809  22.775875   \n",
       "311  41.9  ...   40    1    1  26.295065    1    1    0  23.616479  38.732016   \n",
       "312  22.0  ...   15    0    1  24.523972    0    1    1  24.275572  18.228271   \n",
       "\n",
       "     V55  \n",
       "0      1  \n",
       "1      0  \n",
       "2      0  \n",
       "3      0  \n",
       "4      0  \n",
       "..   ...  \n",
       "308    0  \n",
       "309    0  \n",
       "310    0  \n",
       "311    1  \n",
       "312    0  \n",
       "\n",
       "[313 rows x 56 columns]"
      ]
     },
     "execution_count": 14,
     "metadata": {},
     "output_type": "execute_result"
    }
   ],
   "source": [
    "train_df = pd.read_csv('Train.txt', sep=' ').reset_index(drop=True)\n",
    "train_df"
   ]
  },
  {
   "cell_type": "code",
   "execution_count": 15,
   "metadata": {},
   "outputs": [
    {
     "name": "stdout",
     "output_type": "stream",
     "text": [
      "<class 'pandas.core.frame.DataFrame'>\n",
      "RangeIndex: 313 entries, 0 to 312\n",
      "Data columns (total 56 columns):\n",
      " #   Column           Non-Null Count  Dtype  \n",
      "---  ------           --------------  -----  \n",
      " 0   PregnancyStatus  313 non-null    int64  \n",
      " 1   age              313 non-null    int64  \n",
      " 2   ethnic           313 non-null    int64  \n",
      " 3   race             313 non-null    int64  \n",
      " 4   hxcc             313 non-null    int64  \n",
      " 5   hirsu            313 non-null    int64  \n",
      " 6   bmi              313 non-null    float64\n",
      " 7   V7               313 non-null    float64\n",
      " 8   V8               313 non-null    float64\n",
      " 9   V9               313 non-null    float64\n",
      " 10  V10              313 non-null    float64\n",
      " 11  V11              313 non-null    float64\n",
      " 12  V12              313 non-null    float64\n",
      " 13  V13              313 non-null    float64\n",
      " 14  V14              313 non-null    float64\n",
      " 15  V15              313 non-null    int64  \n",
      " 16  V16              313 non-null    int64  \n",
      " 17  V17              313 non-null    int64  \n",
      " 18  V18              313 non-null    int64  \n",
      " 19  V19              313 non-null    int64  \n",
      " 20  V20              313 non-null    int64  \n",
      " 21  V21              313 non-null    int64  \n",
      " 22  V22              313 non-null    float64\n",
      " 23  V23              313 non-null    float64\n",
      " 24  V24              313 non-null    float64\n",
      " 25  V25              313 non-null    int64  \n",
      " 26  V26              313 non-null    int64  \n",
      " 27  V27              313 non-null    int64  \n",
      " 28  V28              313 non-null    int64  \n",
      " 29  V29              313 non-null    int64  \n",
      " 30  V30              313 non-null    float64\n",
      " 31  V31              313 non-null    float64\n",
      " 32  V32              313 non-null    int64  \n",
      " 33  V33              313 non-null    float64\n",
      " 34  V34              313 non-null    float64\n",
      " 35  V35              313 non-null    float64\n",
      " 36  V36              313 non-null    float64\n",
      " 37  V37              313 non-null    float64\n",
      " 38  V38              313 non-null    float64\n",
      " 39  V39              313 non-null    float64\n",
      " 40  V40              313 non-null    float64\n",
      " 41  V41              313 non-null    float64\n",
      " 42  V42              313 non-null    float64\n",
      " 43  V43              313 non-null    float64\n",
      " 44  V44              313 non-null    float64\n",
      " 45  V45              313 non-null    int64  \n",
      " 46  V46              313 non-null    int64  \n",
      " 47  V47              313 non-null    int64  \n",
      " 48  V48              313 non-null    int64  \n",
      " 49  V49              313 non-null    float64\n",
      " 50  V50              313 non-null    int64  \n",
      " 51  V51              313 non-null    int64  \n",
      " 52  V52              313 non-null    int64  \n",
      " 53  V53              313 non-null    float64\n",
      " 54  V54              313 non-null    float64\n",
      " 55  V55              313 non-null    int64  \n",
      "dtypes: float64(29), int64(27)\n",
      "memory usage: 137.1 KB\n"
     ]
    }
   ],
   "source": [
    "# Check dtype and any missing data\n",
    "train_df.info()"
   ]
  },
  {
   "cell_type": "markdown",
   "metadata": {},
   "source": [
    "preprocess the data"
   ]
  },
  {
   "cell_type": "code",
   "execution_count": 16,
   "metadata": {},
   "outputs": [],
   "source": [
    "X = train_df.drop('PregnancyStatus', axis=1)\n",
    "y = train_df['PregnancyStatus']"
   ]
  },
  {
   "cell_type": "code",
   "execution_count": 17,
   "metadata": {},
   "outputs": [
    {
     "data": {
      "text/html": [
       "<div>\n",
       "<style scoped>\n",
       "    .dataframe tbody tr th:only-of-type {\n",
       "        vertical-align: middle;\n",
       "    }\n",
       "\n",
       "    .dataframe tbody tr th {\n",
       "        vertical-align: top;\n",
       "    }\n",
       "\n",
       "    .dataframe thead th {\n",
       "        text-align: right;\n",
       "    }\n",
       "</style>\n",
       "<table border=\"1\" class=\"dataframe\">\n",
       "  <thead>\n",
       "    <tr style=\"text-align: right;\">\n",
       "      <th></th>\n",
       "      <th>age</th>\n",
       "      <th>hxcc</th>\n",
       "      <th>hirsu</th>\n",
       "      <th>bmi</th>\n",
       "      <th>V7</th>\n",
       "      <th>V8</th>\n",
       "      <th>V9</th>\n",
       "      <th>V10</th>\n",
       "      <th>V11</th>\n",
       "      <th>V12</th>\n",
       "      <th>...</th>\n",
       "      <th>V52</th>\n",
       "      <th>V53</th>\n",
       "      <th>V54</th>\n",
       "      <th>V55</th>\n",
       "      <th>ethnic_0</th>\n",
       "      <th>ethnic_1</th>\n",
       "      <th>race_0</th>\n",
       "      <th>race_1</th>\n",
       "      <th>race_2</th>\n",
       "      <th>race_3</th>\n",
       "    </tr>\n",
       "  </thead>\n",
       "  <tbody>\n",
       "    <tr>\n",
       "      <th>0</th>\n",
       "      <td>63</td>\n",
       "      <td>1</td>\n",
       "      <td>19</td>\n",
       "      <td>59.7338</td>\n",
       "      <td>36.0</td>\n",
       "      <td>52.9</td>\n",
       "      <td>15.9</td>\n",
       "      <td>33.3</td>\n",
       "      <td>89.0</td>\n",
       "      <td>7.3178</td>\n",
       "      <td>...</td>\n",
       "      <td>1</td>\n",
       "      <td>34.260114</td>\n",
       "      <td>12.272363</td>\n",
       "      <td>1</td>\n",
       "      <td>0</td>\n",
       "      <td>1</td>\n",
       "      <td>1</td>\n",
       "      <td>0</td>\n",
       "      <td>0</td>\n",
       "      <td>0</td>\n",
       "    </tr>\n",
       "    <tr>\n",
       "      <th>1</th>\n",
       "      <td>56</td>\n",
       "      <td>1</td>\n",
       "      <td>17</td>\n",
       "      <td>29.2568</td>\n",
       "      <td>18.0</td>\n",
       "      <td>134.5</td>\n",
       "      <td>15.9</td>\n",
       "      <td>259.0</td>\n",
       "      <td>101.0</td>\n",
       "      <td>64.5901</td>\n",
       "      <td>...</td>\n",
       "      <td>0</td>\n",
       "      <td>42.403559</td>\n",
       "      <td>24.456213</td>\n",
       "      <td>0</td>\n",
       "      <td>0</td>\n",
       "      <td>1</td>\n",
       "      <td>0</td>\n",
       "      <td>1</td>\n",
       "      <td>0</td>\n",
       "      <td>0</td>\n",
       "    </tr>\n",
       "    <tr>\n",
       "      <th>2</th>\n",
       "      <td>46</td>\n",
       "      <td>1</td>\n",
       "      <td>7</td>\n",
       "      <td>47.9202</td>\n",
       "      <td>16.0</td>\n",
       "      <td>66.4</td>\n",
       "      <td>20.4</td>\n",
       "      <td>17.0</td>\n",
       "      <td>70.5</td>\n",
       "      <td>2.9593</td>\n",
       "      <td>...</td>\n",
       "      <td>1</td>\n",
       "      <td>44.502206</td>\n",
       "      <td>40.660653</td>\n",
       "      <td>0</td>\n",
       "      <td>1</td>\n",
       "      <td>0</td>\n",
       "      <td>1</td>\n",
       "      <td>0</td>\n",
       "      <td>0</td>\n",
       "      <td>0</td>\n",
       "    </tr>\n",
       "    <tr>\n",
       "      <th>3</th>\n",
       "      <td>49</td>\n",
       "      <td>0</td>\n",
       "      <td>11</td>\n",
       "      <td>27.9795</td>\n",
       "      <td>30.0</td>\n",
       "      <td>17.7</td>\n",
       "      <td>45.1</td>\n",
       "      <td>9.2</td>\n",
       "      <td>78.0</td>\n",
       "      <td>1.7719</td>\n",
       "      <td>...</td>\n",
       "      <td>0</td>\n",
       "      <td>38.176825</td>\n",
       "      <td>10.224140</td>\n",
       "      <td>0</td>\n",
       "      <td>0</td>\n",
       "      <td>1</td>\n",
       "      <td>1</td>\n",
       "      <td>0</td>\n",
       "      <td>0</td>\n",
       "      <td>0</td>\n",
       "    </tr>\n",
       "    <tr>\n",
       "      <th>4</th>\n",
       "      <td>60</td>\n",
       "      <td>0</td>\n",
       "      <td>14</td>\n",
       "      <td>27.4573</td>\n",
       "      <td>72.0</td>\n",
       "      <td>67.6</td>\n",
       "      <td>10.3</td>\n",
       "      <td>10.0</td>\n",
       "      <td>91.0</td>\n",
       "      <td>2.2469</td>\n",
       "      <td>...</td>\n",
       "      <td>1</td>\n",
       "      <td>37.001452</td>\n",
       "      <td>23.550903</td>\n",
       "      <td>0</td>\n",
       "      <td>0</td>\n",
       "      <td>1</td>\n",
       "      <td>1</td>\n",
       "      <td>0</td>\n",
       "      <td>0</td>\n",
       "      <td>0</td>\n",
       "    </tr>\n",
       "  </tbody>\n",
       "</table>\n",
       "<p>5 rows × 59 columns</p>\n",
       "</div>"
      ],
      "text/plain": [
       "   age  hxcc  hirsu      bmi    V7     V8    V9    V10    V11      V12  ...  \\\n",
       "0   63     1     19  59.7338  36.0   52.9  15.9   33.3   89.0   7.3178  ...   \n",
       "1   56     1     17  29.2568  18.0  134.5  15.9  259.0  101.0  64.5901  ...   \n",
       "2   46     1      7  47.9202  16.0   66.4  20.4   17.0   70.5   2.9593  ...   \n",
       "3   49     0     11  27.9795  30.0   17.7  45.1    9.2   78.0   1.7719  ...   \n",
       "4   60     0     14  27.4573  72.0   67.6  10.3   10.0   91.0   2.2469  ...   \n",
       "\n",
       "   V52        V53        V54  V55  ethnic_0  ethnic_1  race_0  race_1  race_2  \\\n",
       "0    1  34.260114  12.272363    1         0         1       1       0       0   \n",
       "1    0  42.403559  24.456213    0         0         1       0       1       0   \n",
       "2    1  44.502206  40.660653    0         1         0       1       0       0   \n",
       "3    0  38.176825  10.224140    0         0         1       1       0       0   \n",
       "4    1  37.001452  23.550903    0         0         1       1       0       0   \n",
       "\n",
       "   race_3  \n",
       "0       0  \n",
       "1       0  \n",
       "2       0  \n",
       "3       0  \n",
       "4       0  \n",
       "\n",
       "[5 rows x 59 columns]"
      ]
     },
     "execution_count": 17,
     "metadata": {},
     "output_type": "execute_result"
    }
   ],
   "source": [
    "# one-hot encoding categorical columns\n",
    "# criterion: unique value in the col less than 4\n",
    "# since race has 4 unique values (the highest)\n",
    "# otheres are mainly binary var\n",
    "\n",
    "one_hot_encoding_col = ['ethnic', 'race']   \n",
    "\n",
    "X = pd.get_dummies(X, columns=one_hot_encoding_col)\n",
    "X.head()"
   ]
  },
  {
   "cell_type": "code",
   "execution_count": 18,
   "metadata": {},
   "outputs": [
    {
     "data": {
      "text/plain": [
       "0    0\n",
       "1    1\n",
       "2    0\n",
       "3    1\n",
       "4    1\n",
       "Name: PregnancyStatus, dtype: int64"
      ]
     },
     "execution_count": 18,
     "metadata": {},
     "output_type": "execute_result"
    }
   ],
   "source": [
    "# replace to 0, 1 or -1, 1 for classification\n",
    "y.replace([1, 2], [0, 1], inplace=True)\n",
    "\n",
    "y.head()"
   ]
  },
  {
   "cell_type": "markdown",
   "metadata": {},
   "source": [
    "split train into train and valid dataset\n",
    "(The portion of y must be much the same)"
   ]
  },
  {
   "cell_type": "code",
   "execution_count": 19,
   "metadata": {},
   "outputs": [],
   "source": [
    "from sklearn.model_selection import train_test_split"
   ]
  },
  {
   "cell_type": "code",
   "execution_count": 20,
   "metadata": {},
   "outputs": [],
   "source": [
    "X_train_val, X_test, y_train_val, y_test = train_test_split(\n",
    "    X, y, test_size=0.2, stratify=y\n",
    ")\n",
    "\n",
    "X_train, X_val, y_train, y_val = train_test_split(\n",
    "    X_train_val, y_train_val, test_size=0.2, stratify=y_train_val\n",
    ")"
   ]
  },
  {
   "cell_type": "code",
   "execution_count": 21,
   "metadata": {},
   "outputs": [
    {
     "name": "stdout",
     "output_type": "stream",
     "text": [
      "Training size: 200\n",
      "Validation size: 50\n",
      "Testing size: 63\n"
     ]
    }
   ],
   "source": [
    "print(\"Training size:\", X_train.shape[0])\n",
    "print(\"Validation size:\", X_val.shape[0])\n",
    "print(\"Testing size:\", X_test.shape[0])"
   ]
  },
  {
   "cell_type": "markdown",
   "metadata": {},
   "source": [
    "standardization"
   ]
  },
  {
   "cell_type": "code",
   "execution_count": 22,
   "metadata": {},
   "outputs": [],
   "source": [
    "from sklearn.preprocessing import StandardScaler"
   ]
  },
  {
   "cell_type": "code",
   "execution_count": 23,
   "metadata": {},
   "outputs": [],
   "source": [
    "# standardization and preventing data leakage\n",
    "\n",
    "scaler = StandardScaler()\n",
    "scaler.fit(X_train)\n",
    "\n",
    "X_train = pd.DataFrame(scaler.transform(X_train), columns=X_train.columns)\n",
    "X_val = pd.DataFrame(scaler.transform(X_val), columns=X_val.columns)\n",
    "X_test = pd.DataFrame(scaler.transform(X_test), columns=X_test.columns)"
   ]
  },
  {
   "cell_type": "code",
   "execution_count": 24,
   "metadata": {},
   "outputs": [],
   "source": [
    "y_train = y_train.reset_index(drop=True)\n",
    "y_val = y_val.reset_index(drop=True)\n",
    "y_test = y_test.reset_index(drop=True)"
   ]
  },
  {
   "cell_type": "markdown",
   "metadata": {},
   "source": [
    "to see if there is any multicollinearity issue"
   ]
  },
  {
   "cell_type": "code",
   "execution_count": 25,
   "metadata": {},
   "outputs": [],
   "source": [
    "corr_mat = X_train.corr().values\n",
    "columns = X_train.columns"
   ]
  },
  {
   "cell_type": "code",
   "execution_count": 26,
   "metadata": {
    "scrolled": true
   },
   "outputs": [
    {
     "data": {
      "text/plain": [
       "[(('V14', 'V23'), 0.8351),\n",
       " (('V38', 'V39'), 0.8926),\n",
       " (('V10', 'V12'), 0.8952),\n",
       " (('V13', 'V14'), 0.9419),\n",
       " (('V15', 'V17'), 0.9858),\n",
       " (('V32', 'V33'), 0.8609),\n",
       " (('bmi', 'V13'), 0.8923),\n",
       " (('hxcc', 'V26'), 0.9023),\n",
       " (('bmi', 'V23'), 0.7278),\n",
       " (('V45', 'V46'), 0.7783),\n",
       " (('V13', 'V23'), 0.9171),\n",
       " (('bmi', 'V14'), 0.7982)]"
      ]
     },
     "execution_count": 26,
     "metadata": {},
     "output_type": "execute_result"
    }
   ],
   "source": [
    "high_mul_col_pairs = set()\n",
    "correlations = []\n",
    "\n",
    "for i, rows in enumerate(corr_mat):\n",
    "    for j, corr in enumerate(rows):\n",
    "        \n",
    "        if (abs(corr) < 0.7) or (abs(corr) == 1.0):\n",
    "            continue\n",
    "        \n",
    "        pair = (columns[i], columns[j])\n",
    "        \n",
    "        if (pair not in high_mul_col_pairs\n",
    "            and pair[::-1] not in high_mul_col_pairs):\n",
    "            \n",
    "            high_mul_col_pairs.add(pair)\n",
    "            corr = np.round(corr, 4)\n",
    "            correlations.append(corr)\n",
    "\n",
    "# make sure the lengths are the same\n",
    "assert(len(high_mul_col_pairs)==len(correlations))\n",
    "\n",
    "# combine into 1 list\n",
    "high_mul_col_pairs = [(p,c) for p, c in zip(high_mul_col_pairs, correlations)]\n",
    "high_mul_col_pairs"
   ]
  },
  {
   "cell_type": "markdown",
   "metadata": {},
   "source": [
    "Check the linear effect"
   ]
  },
  {
   "cell_type": "code",
   "execution_count": 27,
   "metadata": {},
   "outputs": [],
   "source": [
    "import statsmodels.api as sm"
   ]
  },
  {
   "cell_type": "code",
   "execution_count": 28,
   "metadata": {},
   "outputs": [
    {
     "name": "stdout",
     "output_type": "stream",
     "text": [
      "Warning: Maximum number of iterations has been exceeded.\n",
      "         Current function value: 0.266592\n",
      "         Iterations: 35\n",
      "                           Logit Regression Results                           \n",
      "==============================================================================\n",
      "Dep. Variable:        PregnancyStatus   No. Observations:                  200\n",
      "Model:                          Logit   Df Residuals:                      143\n",
      "Method:                           MLE   Df Model:                           56\n",
      "Date:                Thu, 14 Apr 2022   Pseudo R-squ.:                  0.6099\n",
      "Time:                        23:21:27   Log-Likelihood:                -53.318\n",
      "converged:                      False   LL-Null:                       -136.66\n",
      "Covariance Type:            nonrobust   LLR p-value:                 6.268e-13\n",
      "==============================================================================\n",
      "                 coef    std err          z      P>|z|      [0.025      0.975]\n",
      "------------------------------------------------------------------------------\n",
      "age            0.1673      0.469      0.356      0.722      -0.753       1.087\n",
      "hxcc          -2.2639      1.021     -2.217      0.027      -4.266      -0.262\n",
      "hirsu         -0.2021      0.293     -0.690      0.490      -0.776       0.371\n",
      "bmi            0.3632      4.801      0.076      0.940      -9.048       9.774\n",
      "V7            -1.1775      0.803     -1.467      0.142      -2.751       0.396\n",
      "V8            -0.6266      0.498     -1.257      0.209      -1.603       0.350\n",
      "V9            -0.8284      0.523     -1.584      0.113      -1.853       0.197\n",
      "V10           -4.5641        nan        nan        nan         nan         nan\n",
      "V11            0.9050      0.670      1.351      0.177      -0.408       2.218\n",
      "V12            6.8805      5.915      1.163      0.245      -4.713      18.474\n",
      "V13            7.1744      3.464      2.071      0.038       0.386      13.963\n",
      "V14           -4.7958      3.624     -1.323      0.186     -11.899       2.307\n",
      "V15           -1.4854      1.059     -1.403      0.161      -3.561       0.590\n",
      "V16            0.5611      0.586      0.957      0.339      -0.588       1.710\n",
      "V17           -0.3095      0.750     -0.413      0.680      -1.779       1.160\n",
      "V18           -0.6343      0.494     -1.283      0.199      -1.603       0.334\n",
      "V19            1.2527      0.515      2.433      0.015       0.244       2.262\n",
      "V20            1.0689      0.450      2.378      0.017       0.188       1.950\n",
      "V21           -0.0450      0.404     -0.111      0.911      -0.838       0.748\n",
      "V22           -0.9704      1.239     -0.783      0.434      -3.399       1.459\n",
      "V23            0.0640      7.684      0.008      0.993     -14.996      15.124\n",
      "V24           -5.1086      4.732     -1.079      0.280     -14.384       4.167\n",
      "V25           -0.1245      0.587     -0.212      0.832      -1.275       1.026\n",
      "V26           -0.2006      1.177     -0.170      0.865      -2.508       2.107\n",
      "V27            0.3195      0.540      0.592      0.554      -0.738       1.377\n",
      "V28           -0.8923      0.121     -7.350      0.000      -1.130      -0.654\n",
      "V29            0.2210      0.312      0.708      0.479      -0.391       0.833\n",
      "V30            0.5293      0.920      0.576      0.565      -1.273       2.332\n",
      "V31            1.3613      0.676      2.014      0.044       0.036       2.686\n",
      "V32            0.1043      0.749      0.139      0.889      -1.364       1.573\n",
      "V33            0.5938      0.828      0.717      0.473      -1.029       2.216\n",
      "V34           -0.4040      0.628     -0.643      0.520      -1.635       0.827\n",
      "V35            0.1086      0.322      0.338      0.736      -0.522       0.739\n",
      "V36            0.2536      0.313      0.811      0.417      -0.359       0.866\n",
      "V37           -1.0808      1.036     -1.043      0.297      -3.112       0.950\n",
      "V38           -3.0898      1.166     -2.649      0.008      -5.376      -0.804\n",
      "V39            1.9239      0.993      1.938      0.053      -0.022       3.870\n",
      "V40           -0.2546      0.399     -0.638      0.524      -1.037       0.528\n",
      "V41           -0.4813      0.445     -1.083      0.279      -1.353       0.390\n",
      "V42           -0.9746        nan        nan        nan         nan         nan\n",
      "V43            0.1995        nan        nan        nan         nan         nan\n",
      "V44           -1.4129      0.764     -1.850      0.064      -2.909       0.084\n",
      "V45            0.8797      0.373      2.361      0.018       0.149       1.610\n",
      "V46           -0.1838      0.844     -0.218      0.828      -1.838       1.471\n",
      "V47           -0.3588      0.610     -0.588      0.557      -1.555       0.837\n",
      "V48           -0.3237      0.400     -0.809      0.419      -1.108       0.461\n",
      "V49           -0.4994      0.375     -1.333      0.182      -1.234       0.235\n",
      "V50            0.3230        nan        nan        nan         nan         nan\n",
      "V51            0.1219      0.469      0.260      0.795      -0.797       1.040\n",
      "V52           -0.5172      0.353     -1.463      0.143      -1.210       0.176\n",
      "V53            0.3726      0.366      1.018      0.309      -0.345       1.090\n",
      "V54           -0.8259      0.410     -2.016      0.044      -1.629      -0.023\n",
      "V55           -0.3180      0.334     -0.953      0.340      -0.972       0.336\n",
      "ethnic_0      -0.2007   5.81e+15  -3.45e-17      1.000   -1.14e+16    1.14e+16\n",
      "ethnic_1       0.2007   5.81e+15   3.45e-17      1.000   -1.14e+16    1.14e+16\n",
      "race_0        -1.8105    5.9e+06  -3.07e-07      1.000   -1.16e+07    1.16e+07\n",
      "race_1         1.6572        nan        nan        nan         nan         nan\n",
      "race_2         0.4150   3.06e+06   1.36e-07      1.000      -6e+06       6e+06\n",
      "race_3         0.4823   4.41e+06   1.09e-07      1.000   -8.65e+06    8.65e+06\n",
      "==============================================================================\n",
      "\n",
      "Possibly complete quasi-separation: A fraction 0.15 of observations can be\n",
      "perfectly predicted. This might indicate that there is complete\n",
      "quasi-separation. In this case some parameters will not be identified.\n"
     ]
    },
    {
     "name": "stderr",
     "output_type": "stream",
     "text": [
      "g:\\anaconda3\\envs\\tensorflow-gpu\\lib\\site-packages\\statsmodels\\base\\model.py:606: ConvergenceWarning: Maximum Likelihood optimization failed to converge. Check mle_retvals\n",
      "  ConvergenceWarning)\n"
     ]
    }
   ],
   "source": [
    "# building the model and fitting the data\n",
    "log_reg = sm.Logit(y_train, X_train).fit()\n",
    "\n",
    "print(log_reg.summary())"
   ]
  },
  {
   "cell_type": "markdown",
   "metadata": {},
   "source": [
    "PCA"
   ]
  },
  {
   "cell_type": "code",
   "execution_count": 29,
   "metadata": {},
   "outputs": [],
   "source": [
    "from sklearn.decomposition import PCA"
   ]
  },
  {
   "cell_type": "code",
   "execution_count": 30,
   "metadata": {},
   "outputs": [
    {
     "data": {
      "text/plain": [
       "PCA(n_components=59)"
      ]
     },
     "execution_count": 30,
     "metadata": {},
     "output_type": "execute_result"
    }
   ],
   "source": [
    "pca = PCA(n_components = X_train.shape[1])\n",
    "pca.fit(X_train)"
   ]
  },
  {
   "cell_type": "code",
   "execution_count": 32,
   "metadata": {},
   "outputs": [],
   "source": [
    "explained_var_ratio = pca.explained_variance_ratio_\n",
    "cum_explained_var_ratio = [sum(explained_var_ratio[:i+1]) for i in range(X_train.shape[1])]\n",
    "\n",
    "PC_nums = [*range(1, X_train.shape[1] + 1)]"
   ]
  },
  {
   "cell_type": "code",
   "execution_count": 33,
   "metadata": {},
   "outputs": [
    {
     "data": {
      "text/plain": [
       "Text(0.5, 0, 'PC')"
      ]
     },
     "execution_count": 33,
     "metadata": {},
     "output_type": "execute_result"
    },
    {
     "data": {
      "image/png": "[encoded data removed]",
      "text/plain": [
       "<Figure size 432x288 with 1 Axes>"
      ]
     },
     "metadata": {
      "needs_background": "light"
     },
     "output_type": "display_data"
    }
   ],
   "source": [
    "plt.plot(PC_nums, cum_explained_var_ratio, '--bo')\n",
    "\n",
    "plt.ylabel('Cum. Var. Explained')\n",
    "plt.xlabel('PC')"
   ]
  },
  {
   "cell_type": "code",
   "execution_count": 34,
   "metadata": {},
   "outputs": [
    {
     "data": {
      "text/plain": [
       "Text(0.5, 1.0, 'PCA Biplot')"
      ]
     },
     "execution_count": 34,
     "metadata": {},
     "output_type": "execute_result"
    },
    {
     "data": {
      "image/png": "[encoded data removed]",
      "text/plain": [
       "<Figure size 576x432 with 1 Axes>"
      ]
     },
     "metadata": {
      "needs_background": "light"
     },
     "output_type": "display_data"
    }
   ],
   "source": [
    "score = pca.transform(X_train)\n",
    "\n",
    "top_2_pc_loadings = pca.components_[0:2].T\n",
    "\n",
    "n = top_2_pc_loadings.shape[0]\n",
    "\n",
    "plt.figure(figsize=(8,6))\n",
    "\n",
    "for i in range(n):\n",
    "    plt.arrow(0, 0, top_2_pc_loadings[i,0], top_2_pc_loadings[i,1], color = 'r',alpha = 0.5)\n",
    "    \n",
    "    text_x, text_y = top_2_pc_loadings[i,0]* 1.15, top_2_pc_loadings[i,1]* 1.15\n",
    "    plt.text(text_x, text_y, X_train.columns[i], color = 'g', ha = 'center', va = 'center')\n",
    "    \n",
    "xs = score[:,0]\n",
    "ys = score[:,1]\n",
    "    \n",
    "scalex = 1.0/(xs.max() - xs.min())\n",
    "scaley = 1.0/(ys.max() - ys.min())\n",
    "plt.scatter(xs * scalex,ys * scaley)\n",
    "\n",
    "plt.xlim(-.8,.8)\n",
    "plt.ylim(-.8,.8)\n",
    "\n",
    "plt.title('PCA Biplot')"
   ]
  },
  {
   "cell_type": "markdown",
   "metadata": {},
   "source": [
    "DNN"
   ]
  },
  {
   "cell_type": "code",
   "execution_count": 35,
   "metadata": {},
   "outputs": [],
   "source": [
    "from sklearn.neural_network import MLPClassifier"
   ]
  },
  {
   "cell_type": "code",
   "execution_count": 91,
   "metadata": {
    "scrolled": true
   },
   "outputs": [
    {
     "name": "stdout",
     "output_type": "stream",
     "text": [
      "Avg performance (Not refit): 0.786\n",
      "True performance (Not refit): 0.7777777777777778\n",
      "Best model performance (Not refit): 0.7619047619047619 with best val score: 0.84\n",
      "Avg performance (refit): 0.806\n",
      "True performance (refit): 0.6507936507936508\n",
      "Best model performance (Not refit): 0.6825396825396826 with best val score: 0.86\n"
     ]
    }
   ],
   "source": [
    "avg_score = []\n",
    "best_model, best_score = None, 0\n",
    "for _ in range(10):\n",
    "    clf = MLPClassifier(hidden_layer_sizes=(128,),\n",
    "                        activation='relu',\n",
    "                        alpha=1e-6,\n",
    "                        learning_rate='invscaling',\n",
    "                        learning_rate_init=1e-4,\n",
    "                        batch_size=32,\n",
    "                        max_iter=5000).fit(X_train, y_train)\n",
    "    \n",
    "    val_score = clf.score(X_val, y_val)\n",
    "    if val_score > best_score:\n",
    "        best_score = val_score\n",
    "        best_model = clf\n",
    "        \n",
    "    \n",
    "    avg_score.append(clf.score(X_val, y_val))\n",
    "\n",
    "print(\"Avg performance (Not refit):\",np.mean(avg_score))\n",
    "print(\"True performance (Not refit):\",clf.score(X_test, y_test))\n",
    "print(\"Best model performance (Not refit):\", best_model.score(X_test, y_test),\n",
    "      'with best val score:', best_score)\n",
    "\n",
    "avg_score = []\n",
    "best_model, best_score = None, 0\n",
    "for _ in range(10):\n",
    "    clf = MLPClassifier(hidden_layer_sizes=(128,),\n",
    "                        activation='relu',\n",
    "                        alpha=1e-6,\n",
    "                        learning_rate='invscaling',\n",
    "                        learning_rate_init=1e-4,\n",
    "                        batch_size=32,\n",
    "                        max_iter=5000).fit(X_train_val, y_train_val)\n",
    "    \n",
    "    val_score = clf.score(X_val, y_val)\n",
    "    if val_score > best_score:\n",
    "        best_score = val_score\n",
    "        best_model = clf\n",
    "        \n",
    "    avg_score.append(clf.score(X_val, y_val))\n",
    "\n",
    "print(\"Avg performance (refit):\",np.mean(avg_score))\n",
    "print('True performance (refit):', clf.score(X_test, y_test))\n",
    "print(\"Best model performance (Not refit):\", best_model.score(X_test, y_test),\n",
    "      'with best val score:', best_score)"
   ]
  },
  {
   "cell_type": "code",
   "execution_count": null,
   "metadata": {},
   "outputs": [],
   "source": [
    "import torch\n",
    "import torch.nn as nn\n",
    "import torch.nn.functional as F"
   ]
  },
  {
   "cell_type": "code",
   "execution_count": null,
   "metadata": {},
   "outputs": [],
   "source": [
    "device = \"cuda\" if torch.cuda.is_available() else \"cpu\"\n",
    "print(f\"Using {device} device\")"
   ]
  },
  {
   "cell_type": "code",
   "execution_count": null,
   "metadata": {},
   "outputs": [],
   "source": [
    "def train(model, epochs, batch_size, weight_decay, lr,\n",
    "          X_train, y_train, X_val, y_val):\n",
    "\n",
    "    model = model\n",
    "    \n",
    "    loss_fn = nn.BCELoss()\n",
    "    optimizer = torch.optim.Adam(model.parameters(),\n",
    "                                 weight_decay=weight_decay,\n",
    "                                 lr=lr)\n",
    "    \n",
    "    train_loss = []\n",
    "    valid_loss = []\n",
    "    \n",
    "    running_loss = 0.0\n",
    "    for epoch in range(epochs):\n",
    "        \n",
    "        # random the order of X_train and y_train for batching\n",
    "        permutation = torch.randperm(X_train.size()[0])\n",
    "        \n",
    "        avg_train_loss = []\n",
    "        \n",
    "        for i in range(0, X_train.size()[0], batch_size):\n",
    "            \n",
    "            indices = permutation[i:i+batch_size]\n",
    "            batch_x, batch_y = X_train[indices], y_train[indices]\n",
    "            \n",
    "            # init optimizer\n",
    "            optimizer.zero_grad()\n",
    "\n",
    "            # forward pass and loss\n",
    "            batch_y_hat = model(batch_x)\n",
    "            loss = loss_fn(batch_y_hat, batch_y)\n",
    "\n",
    "            # backward pass\n",
    "            loss.backward()\n",
    "\n",
    "            # update\n",
    "            optimizer.step()\n",
    "            \n",
    "            avg_train_loss.append(loss.item())\n",
    "        \n",
    "        train_loss.append(np.mean(avg_train_loss))\n",
    "        \n",
    "        y_pred = model(X_val)\n",
    "        valid_bce_loss = F.binary_cross_entropy(y_pred, y_val)\n",
    "        \n",
    "        valid_loss.append(valid_bce_loss.item())\n",
    "\n",
    "        if (epoch + 1) % 10 == 0:\n",
    "            print(f'epoch: {epoch+1}, train loss = {loss.item(): .4f}, valid loss = {valid_bce_loss: .4f}')\n",
    "    \n",
    "    return train_loss, valid_loss"
   ]
  },
  {
   "cell_type": "code",
   "execution_count": null,
   "metadata": {},
   "outputs": [],
   "source": [
    "class Net(nn.Module):\n",
    "    def __init__(self, input_dim, output_dim,\n",
    "                 hidden_dim, dropout):\n",
    "        super().__init__()\n",
    "        \n",
    "        # Network archi\n",
    "        self.fc1 = nn.Linear(input_dim, hidden_dim)\n",
    "#         self.fc2 = nn.Linear(hidden_dim, hidden_dim)\n",
    "        self.fc2 = nn.Linear(hidden_dim, output_dim)\n",
    "        \n",
    "        # Define proportion or neurons to dropout\n",
    "        self.dropout = nn.Dropout(dropout)\n",
    "        \n",
    "    def forward(self, x):\n",
    "        x = F.leaky_relu(self.fc1(x))\n",
    "        x = self.dropout(x)\n",
    "#         x = F.leaky_relu(self.fc2(x))\n",
    "#         x = self.dropout(x)\n",
    "        x = F.sigmoid(self.fc2(x))\n",
    "        return x"
   ]
  },
  {
   "cell_type": "code",
   "execution_count": null,
   "metadata": {},
   "outputs": [],
   "source": [
    "torch.cuda.empty_cache()"
   ]
  },
  {
   "cell_type": "code",
   "execution_count": null,
   "metadata": {
    "scrolled": true
   },
   "outputs": [],
   "source": [
    "model = Net(input_dim=X_train.size()[1],\n",
    "            output_dim=2,\n",
    "            hidden_dim=64,\n",
    "            dropout=0.3).to(device)"
   ]
  },
  {
   "cell_type": "code",
   "execution_count": null,
   "metadata": {},
   "outputs": [],
   "source": [
    "# from label [0, 1] to prob [[1, 0], [0, 1]]\n",
    "\n",
    "y_train = pd.get_dummies(y_train)\n",
    "y_val = pd.get_dummies(y_val)\n",
    "y_test = pd.get_dummies(y_test)"
   ]
  },
  {
   "cell_type": "code",
   "execution_count": null,
   "metadata": {
    "scrolled": true
   },
   "outputs": [],
   "source": [
    "X_train = torch.tensor(X_train, dtype=torch.float32).to(device)\n",
    "y_train = torch.tensor(y_train, dtype=torch.float32).to(device)\n",
    "X_val = torch.tensor(X_val, dtype=torch.float32).to(device)\n",
    "y_val = torch.tensor(y_val, dtype=torch.float32).to(device)\n",
    "\n",
    "# para: model, epochs, batch_size, weight_decay, lr, X_train, y_train, X_val, y_val\n",
    "train_loss, valid_loss = train(\n",
    "    model=model, epochs=3000, batch_size=32, weight_decay=1e-4, lr=1e-5,\n",
    "    X_train=X_train, y_train=y_train, X_val=X_val, y_val=y_val\n",
    ")"
   ]
  },
  {
   "cell_type": "code",
   "execution_count": null,
   "metadata": {},
   "outputs": [],
   "source": [
    "plt.plot(train_loss)\n",
    "plt.plot(valid_loss)"
   ]
  },
  {
   "cell_type": "markdown",
   "metadata": {},
   "source": [
    "Measure performance"
   ]
  },
  {
   "cell_type": "code",
   "execution_count": null,
   "metadata": {},
   "outputs": [],
   "source": [
    "from sklearn.metrics import accuracy_score, classification_report, confusion_matrix"
   ]
  },
  {
   "cell_type": "code",
   "execution_count": null,
   "metadata": {},
   "outputs": [],
   "source": [
    "y_pred = model(X_val)\n",
    "\n",
    "y_pred = y_pred.detach().cpu().numpy()\n",
    "y_val = y_val.detach().cpu().numpy()"
   ]
  },
  {
   "cell_type": "code",
   "execution_count": null,
   "metadata": {
    "scrolled": true
   },
   "outputs": [],
   "source": [
    "accuracy_score(np.argmax(y_val, axis=1), np.argmax(y_pred, axis=1))"
   ]
  },
  {
   "cell_type": "code",
   "execution_count": null,
   "metadata": {},
   "outputs": [],
   "source": [
    "print(classification_report(np.argmax(y_val, axis=1), np.argmax(y_pred, axis=1)))"
   ]
  },
  {
   "cell_type": "code",
   "execution_count": null,
   "metadata": {},
   "outputs": [],
   "source": [
    "sns.heatmap(confusion_matrix(np.argmax(y_val, axis=1), np.argmax(y_pred, axis=1)), annot=True)"
   ]
  },
  {
   "cell_type": "code",
   "execution_count": null,
   "metadata": {},
   "outputs": [],
   "source": []
  }
 ],
 "metadata": {
  "kernelspec": {
   "display_name": "Python 3",
   "language": "python",
   "name": "python3"
  },
  "language_info": {
   "codemirror_mode": {
    "name": "ipython",
    "version": 3
   },
   "file_extension": ".py",
   "mimetype": "text/x-python",
   "name": "python",
   "nbconvert_exporter": "python",
   "pygments_lexer": "ipython3",
   "version": "3.8.5"
  }
 },
 "nbformat": 4,
 "nbformat_minor": 4
}
